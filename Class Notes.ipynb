{
 "cells": [
  {
   "cell_type": "code",
   "execution_count": 4,
   "id": "c4500fa0-711e-486f-b76c-909713a09a0d",
   "metadata": {},
   "outputs": [
    {
     "name": "stdout",
     "output_type": "stream",
     "text": [
      "Apple\n",
      "Mango\n",
      "Kiwi\n"
     ]
    }
   ],
   "source": [
    "# create a list of fruits and print all the fruits in that lists\n",
    "fruits = [\"Apple\" ,\"Mango\" ,\"Kiwi\"]\n",
    "for f in fruits:\n",
    "  print(f)"
   ]
  },
  {
   "cell_type": "code",
   "execution_count": 8,
   "id": "20d4ff91-0efa-49a1-9921-ccb893b3afe5",
   "metadata": {},
   "outputs": [
    {
     "name": "stdin",
     "output_type": "stream",
     "text": [
      "Enter the number: 6\n"
     ]
    },
    {
     "name": "stdout",
     "output_type": "stream",
     "text": [
      "6 x 1 = 6\n",
      "6 x 2 = 12\n",
      "6 x 3 = 18\n",
      "6 x 4 = 24\n",
      "6 x 5 = 30\n",
      "6 x 6 = 36\n",
      "6 x 7 = 42\n",
      "6 x 8 = 48\n",
      "6 x 9 = 54\n",
      "6 x 10 = 60\n"
     ]
    }
   ],
   "source": [
    "# Take user input for number and print its multiplication table\n",
    "num = int(input(\"Enter the number:\"))\n",
    "for i in range(1,11) :\n",
    "  print (num,\"x\",i,\"=\",i*num)"
   ]
  },
  {
   "cell_type": "code",
   "execution_count": 1,
   "id": "5d9f9499-89bc-4016-a889-5f2b08869816",
   "metadata": {},
   "outputs": [
    {
     "name": "stdout",
     "output_type": "stream",
     "text": [
      "Addition is: 132\n"
     ]
    }
   ],
   "source": [
    "#Define a list  of number and using for loop add all the numbers of list\n",
    "num = (2,5,8,19,98)\n",
    "add = 0\n",
    "for j in  num:\n",
    "    add += j\n",
    "print(\"Addition is:\",add)"
   ]
  },
  {
   "cell_type": "code",
   "execution_count": 2,
   "id": "bfd597e0-2a12-43d4-9d91-aaf690d88004",
   "metadata": {},
   "outputs": [
    {
     "name": "stdout",
     "output_type": "stream",
     "text": [
      "P\n",
      "y\n",
      "t\n",
      "h\n",
      "o\n",
      "n\n"
     ]
    }
   ],
   "source": [
    "for char in \"Python\":\n",
    " print (char) "
   ]
  },
  {
   "cell_type": "code",
   "execution_count": 22,
   "id": "ece5c220-d987-4eaf-bf47-16fb1cb0ed60",
   "metadata": {},
   "outputs": [
    {
     "name": "stdout",
     "output_type": "stream",
     "text": [
      "1\n",
      "2\n",
      "3\n",
      "4\n",
      "5\n"
     ]
    }
   ],
   "source": [
    "for range in \"12345\" :\n",
    "  print(range)\n"
   ]
  },
  {
   "cell_type": "code",
   "execution_count": 1,
   "id": "64b7386c-99c8-493b-826a-90df4e798f04",
   "metadata": {},
   "outputs": [
    {
     "name": "stdout",
     "output_type": "stream",
     "text": [
      "2\n",
      "4\n",
      "6\n",
      "8\n",
      "10\n",
      "12\n",
      "14\n",
      "16\n",
      "18\n",
      "20\n"
     ]
    }
   ],
   "source": [
    "for i in range(1,21):\n",
    "   if i % 2 == 0:\n",
    "     print(i) "
   ]
  },
  {
   "cell_type": "code",
   "execution_count": 11,
   "id": "0a180088-0bf1-4997-afda-061ac4074a4f",
   "metadata": {},
   "outputs": [
    {
     "name": "stdout",
     "output_type": "stream",
     "text": [
      "1\n",
      "4\n",
      "9\n",
      "16\n",
      "25\n",
      "36\n",
      "49\n",
      "64\n",
      "81\n",
      "100\n"
     ]
    }
   ],
   "source": [
    "# Print square of numbers from 1 to 10\n",
    "for i in range( 1,11):\n",
    " print(i*i)"
   ]
  },
  {
   "cell_type": "code",
   "execution_count": 16,
   "id": "d84461c5-f946-4ec6-a61e-8a15ead6e2a9",
   "metadata": {},
   "outputs": [
    {
     "name": "stdin",
     "output_type": "stream",
     "text": [
      "Enter a Word Python\n"
     ]
    },
    {
     "name": "stdout",
     "output_type": "stream",
     "text": [
      "P\n",
      "y\n",
      "t\n",
      "h\n",
      "o\n",
      "n\n"
     ]
    }
   ],
   "source": [
    "# take user input  of word and print each character in the word\n",
    "user = input(\"Enter a Word:\")\n",
    "for char in user:\n",
    "    print(char)"
   ]
  },
  {
   "cell_type": "code",
   "execution_count": 25,
   "id": "77ba40aa-0b2a-4143-995f-7b15335e530d",
   "metadata": {},
   "outputs": [
    {
     "name": "stdin",
     "output_type": "stream",
     "text": [
      "Enter the Word: Hello World\n"
     ]
    },
    {
     "name": "stdout",
     "output_type": "stream",
     "text": [
      "Number of vowels in the word is 3\n"
     ]
    }
   ],
   "source": [
    "# take a user input as string and count the number of vowels in the string\n",
    "user = input(\"Enter the Word:\")\n",
    "vowels = \"aeiouAEIOU\"\n",
    "count = 0\n",
    "for char in user:\n",
    "    if char in vowels:\n",
    "        count +=1\n",
    "print(\"Number of vowels in the word is\",count)"
   ]
  },
  {
   "cell_type": "code",
   "execution_count": 32,
   "id": "8d117b85-4201-490f-9754-efff9aff4e06",
   "metadata": {},
   "outputs": [
    {
     "name": "stdout",
     "output_type": "stream",
     "text": [
      "1\n",
      "2\n",
      "3\n",
      "4\n",
      "5\n"
     ]
    }
   ],
   "source": [
    "i=1\n",
    "while i<=5:\n",
    " print(i)\n",
    " i += 1"
   ]
  },
  {
   "cell_type": "code",
   "execution_count": 34,
   "id": "ca637430-cb45-42c4-8fe5-68ca581fd96d",
   "metadata": {},
   "outputs": [
    {
     "name": "stdout",
     "output_type": "stream",
     "text": [
      "Total is 15\n"
     ]
    }
   ],
   "source": [
    "# Add numbers until total is 10 or more\n",
    "total = 0\n",
    "num = 1\n",
    "while total <= 10:\n",
    "    total += num\n",
    "    num += 1\n",
    "print(\"Total is\", total)"
   ]
  },
  {
   "cell_type": "code",
   "execution_count": 35,
   "id": "7a9ce6e7-3173-438c-90f2-7f088abc637b",
   "metadata": {},
   "outputs": [
    {
     "name": "stdout",
     "output_type": "stream",
     "text": [
      "2\n",
      "4\n",
      "6\n",
      "8\n",
      "10\n"
     ]
    }
   ],
   "source": [
    "# print even numbers from 2 to 10 using while loop\n",
    "i = 2\n",
    "while i <= 10:\n",
    "    print (i)\n",
    "    i +=2"
   ]
  },
  {
   "cell_type": "code",
   "execution_count": 36,
   "id": "373eaa2d-1e72-4cea-92a4-a1f9b25572e4",
   "metadata": {},
   "outputs": [
    {
     "name": "stdout",
     "output_type": "stream",
     "text": [
      "20\n",
      "19\n",
      "18\n",
      "17\n",
      "16\n",
      "15\n",
      "14\n",
      "13\n",
      "12\n",
      "11\n",
      "10\n",
      "9\n",
      "8\n",
      "7\n",
      "6\n",
      "5\n",
      "4\n",
      "3\n",
      "2\n",
      "1\n"
     ]
    }
   ],
   "source": [
    "# countdown  from 20 to 1\n",
    "i = 20\n",
    "while i >= 1:\n",
    "    print(i)\n",
    "    i -= 1"
   ]
  },
  {
   "cell_type": "code",
   "execution_count": 46,
   "id": "878c49d5-284a-4f86-bbf2-fb192e4cb9fa",
   "metadata": {},
   "outputs": [
    {
     "name": "stdout",
     "output_type": "stream",
     "text": [
      "1\n",
      "4\n",
      "9\n",
      "16\n",
      "25\n"
     ]
    }
   ],
   "source": [
    "# Print square of numbers from 1 to 5 \n",
    "i=1\n",
    "while i <=5: \n",
    "  print(i*i)\n",
    "  i += 1"
   ]
  },
  {
   "cell_type": "code",
   "execution_count": 4,
   "id": "de6e891a-52a8-448e-9ed5-4ddf9e3b6b8f",
   "metadata": {},
   "outputs": [
    {
     "name": "stdin",
     "output_type": "stream",
     "text": [
      "Enter the number: 7\n"
     ]
    },
    {
     "name": "stdout",
     "output_type": "stream",
     "text": [
      "7 x 7\n",
      "7 x 14\n",
      "7 x 21\n",
      "7 x 28\n",
      "7 x 35\n",
      "7 x 42\n",
      "7 x 49\n",
      "7 x 56\n",
      "7 x 63\n",
      "7 x 70\n"
     ]
    }
   ],
   "source": [
    "# Multiplication table using while loop\n",
    "num = int(input(\"Enter the number:\"))\n",
    "i = 1\n",
    "while  i <= 10 :\n",
    "  print(num,\"x\",i*num)   \n",
    "  i += 1"
   ]
  },
  {
   "cell_type": "code",
   "execution_count": 7,
   "id": "b3ddffed-39bf-4daf-975c-9673a6b4c805",
   "metadata": {},
   "outputs": [
    {
     "name": "stdin",
     "output_type": "stream",
     "text": [
      "Enter the number: 2\n"
     ]
    }
   ],
   "source": [
    "num = int(input(\"Enter the number:\"))\n",
    "i = 2\n",
    "while 1 >=20 :\n",
    "    print(num,i%num,\"%\")\n",
    "    i += 2"
   ]
  },
  {
   "cell_type": "code",
   "execution_count": 13,
   "id": "2d615bec-d0bf-4b64-b982-8be60ef16b35",
   "metadata": {},
   "outputs": [
    {
     "name": "stdout",
     "output_type": "stream",
     "text": [
      "Addition of 1 to 50 is: 1275\n"
     ]
    }
   ],
   "source": [
    "# Add  numbers from 1 to 50 and print the total  u\n",
    "i = 1\n",
    "total = 0\n",
    "while i<= 50:\n",
    "    total += i\n",
    "    i += 1\n",
    "print(\"Addition of 1 to 50 is:\", total)"
   ]
  },
  {
   "cell_type": "code",
   "execution_count": 17,
   "id": "9d49f925-42e8-470c-8076-f751b8515556",
   "metadata": {},
   "outputs": [
    {
     "name": "stdin",
     "output_type": "stream",
     "text": [
      "Enter the number: 2\n"
     ]
    },
    {
     "name": "stdout",
     "output_type": "stream",
     "text": [
      "Factorial is: 2\n"
     ]
    }
   ],
   "source": [
    "# Factorial\n",
    "num = int(input(\"Enter the number:\"))\n",
    "fact = 1\n",
    "while num >=1 :\n",
    " fact *= num\n",
    " num -= 1\n",
    "print(\"Factorial is:\",fact)"
   ]
  },
  {
   "cell_type": "code",
   "execution_count": 1,
   "id": "76c13674-dd41-4cc9-b25b-86791ee57817",
   "metadata": {},
   "outputs": [],
   "source": [
    "# Print the first 5 multiples of 3\n",
    "# Print the cube of all numbers from 1 to 10\n",
    "# keep taking input until the user entrs a number >100\n",
    "# Print every 3rd number from 1 to 20\n",
    "# Print square of even numbers from 1 to 10"
   ]
  },
  {
   "cell_type": "markdown",
   "id": "1e2d75b9-6cb7-49b6-b739-a4907b3c92e0",
   "metadata": {},
   "source": [
    "# loop control statements\n",
    "1. break- exits the loop\n",
    "2. continue- skips the iteration\n",
    "3. else- execute something after loop ends"
   ]
  },
  {
   "cell_type": "code",
   "execution_count": 8,
   "id": "afe8b82b-7dde-4497-a80c-0addd81b5752",
   "metadata": {},
   "outputs": [
    {
     "name": "stdout",
     "output_type": "stream",
     "text": [
      "2\n",
      "5\n",
      "7\n"
     ]
    }
   ],
   "source": [
    "#break at 8 loop ends\n",
    "num = [2,5,7,8,10]\n",
    "for n in num:\n",
    "    if n == 8:\n",
    "        break\n",
    "    print(n)"
   ]
  },
  {
   "cell_type": "code",
   "execution_count": 12,
   "id": "7fbc9457-de83-436b-be32-687ad6d6ad75",
   "metadata": {},
   "outputs": [
    {
     "name": "stdout",
     "output_type": "stream",
     "text": [
      "1\n",
      "2\n",
      "3\n",
      "4\n",
      "5\n",
      "6\n"
     ]
    }
   ],
   "source": [
    "#break at 7 loop ends\n",
    "for n in range(1,10) :\n",
    "  if n == 7:\n",
    "    break\n",
    "  print(n)"
   ]
  },
  {
   "cell_type": "code",
   "execution_count": 13,
   "id": "afda926a-226c-4cc1-b95e-88aebfdede0f",
   "metadata": {},
   "outputs": [
    {
     "name": "stdout",
     "output_type": "stream",
     "text": [
      "1\n",
      "2\n",
      "3\n",
      "4\n",
      "5\n",
      "6\n",
      "8\n",
      "9\n"
     ]
    }
   ],
   "source": [
    "#skips the 7th iteration and continues the loop\n",
    "for n in range(1,10):\n",
    "    if n==7:\n",
    "        continue\n",
    "    print(n)"
   ]
  },
  {
   "cell_type": "code",
   "execution_count": 7,
   "id": "d882ea77-3168-4535-9f02-1554f4361346",
   "metadata": {},
   "outputs": [
    {
     "name": "stdin",
     "output_type": "stream",
     "text": [
      "Enter the number: 4\n"
     ]
    },
    {
     "name": "stdout",
     "output_type": "stream",
     "text": [
      "The Entered number is not a prime number\n"
     ]
    }
   ],
   "source": [
    "# break if no is not prime else print the ans\n",
    "num = int(input(\"Enter the number:\"))\n",
    "for i in range(2,num):\n",
    "    if num%1 ==0:\n",
    "        print(\"The Entered number is not a prime number\")\n",
    "        break\n",
    "else:\n",
    "     print(\"The Entered number is prime\")\n",
    "        "
   ]
  },
  {
   "cell_type": "code",
   "execution_count": 3,
   "id": "9c9de4c4-d5c9-46fc-ba23-5493dd8b2b12",
   "metadata": {},
   "outputs": [
    {
     "name": "stdout",
     "output_type": "stream",
     "text": [
      "found 9\n"
     ]
    }
   ],
   "source": [
    "#\n",
    "n=1\n",
    "while n <= 10:\n",
    "    if n == 9:\n",
    "     print(\"found 9\")\n",
    "     break\n",
    "    n+=1\n",
    "else:\n",
    " print(\"9 isn't in the given range\")\n",
    "    "
   ]
  },
  {
   "cell_type": "code",
   "execution_count": 11,
   "id": "ec653824-a9ec-44be-b7a3-6463e2cdaabe",
   "metadata": {},
   "outputs": [
    {
     "name": "stdout",
     "output_type": "stream",
     "text": [
      "P\n",
      "i\n",
      "Python is fun\n",
      "nuf si nohtyP\n"
     ]
    }
   ],
   "source": [
    "# \n",
    "\n",
    "text = \"Python is fun\"\n",
    " print(text[0])\n",
    " print(text[-6])\n",
    " print(text[0:13]) #slicing\n",
    " print(text[::-1])# reversing string"
   ]
  },
  {
   "cell_type": "code",
   "execution_count": 13,
   "id": "008bb707-72ef-4163-bc40-71a88a7ef988",
   "metadata": {},
   "outputs": [
    {
     "name": "stdout",
     "output_type": "stream",
     "text": [
      "5\n",
      "2\n"
     ]
    }
   ],
   "source": [
    "# length of a string\n",
    "# len() - returns the number of characters in a string\n",
    "name = \"Pooja\"\n",
    "print(len(name))\n",
    "# count() - returns the occurence count of specified characters\n",
    "print(name.count(\"o\"))"
   ]
  },
  {
   "cell_type": "code",
   "execution_count": 4,
   "id": "3f8751c9-d88c-4614-b2bc-43b40f9c2547",
   "metadata": {},
   "outputs": [
    {
     "name": "stdout",
     "output_type": "stream",
     "text": [
      "PYTHON\n",
      "data\n",
      "Python Is Fun\n",
      "Python is fun\n",
      "data\n"
     ]
    }
   ],
   "source": [
    "# changing case \n",
    "\n",
    "# upper case\n",
    "#lower case\n",
    "#title\n",
    "#capitalize\n",
    "#swapcase\n",
    "\n",
    "word = \"python\"\n",
    "w2 =\"DATA\"\n",
    "text = \"python is fun\"\n",
    "print(word.upper())\n",
    "print(w2.lower())\n",
    "print(text.title()) #each words 1st letter is capital\n",
    "print(text.capitalize()) # only 1st word 1st letter is capital\n",
    "print(w2.swapcase())\n"
   ]
  },
  {
   "cell_type": "code",
   "execution_count": 1,
   "id": "91ed1ab9-2fad-4897-9037-b5be239c7363",
   "metadata": {},
   "outputs": [
    {
     "name": "stdout",
     "output_type": "stream",
     "text": [
      "7\n",
      "-1\n",
      "7\n",
      "I Love Python\n"
     ]
    }
   ],
   "source": [
    "#find and replace and index\n",
    " #1. find()\n",
    " #2. index()\n",
    " #3. replace()\n",
    "\n",
    "text = \"I Love java\"\n",
    "\n",
    "print(text.find(\"java\"))\n",
    "print(text.find(\"Python\")) #if word not present then it returns -1 value\n",
    "print(text.index(\"java\")) # if word not present then it returns value error \n",
    "print(text.replace(\"java\",\"Python\"))"
   ]
  },
  {
   "cell_type": "code",
   "execution_count": 22,
   "id": "037529a7-fe0d-414a-ab2a-d80931686ad0",
   "metadata": {},
   "outputs": [
    {
     "name": "stdout",
     "output_type": "stream",
     "text": [
      "['tea,coffee,milk']\n",
      "tea|coffee|milk\n"
     ]
    }
   ],
   "source": [
    "# split and join\n",
    "# 1. split() - used to break a string into a list based on seperator\n",
    "# 2. join() - used to join the words into single string\n",
    "\n",
    "drinks = \"tea,coffee,milk\"\n",
    "print(drinks.split(\",\"))\n",
    "\n",
    "drinks1 = ['tea','coffee','milk']\n",
    "print(\"|\".join(drinks1))"
   ]
  },
  {
   "cell_type": "code",
   "execution_count": 23,
   "id": "92e0c326-a93b-4652-9574-814bdc5e2cb0",
   "metadata": {},
   "outputs": [
    {
     "name": "stdout",
     "output_type": "stream",
     "text": [
      "False\n",
      "True\n",
      "True\n",
      "True\n",
      "False\n",
      "True\n"
     ]
    }
   ],
   "source": [
    "# string checking\n",
    "# isalpha() - return true if the string only contains alphabets\n",
    "# isalnum() - returns true if the string contains alphabets , numbers , alphanumeric values\n",
    "# isdigit() - returns true if the string contains only numbers\n",
    "\n",
    "a = \"string123\"\n",
    "b = \"string\"\n",
    "c = \"12345\"\n",
    "\n",
    "print(a.isalpha())\n",
    "print(b.isalpha())\n",
    "print(a.isalnum())\n",
    "print(b.isalnum())\n",
    "print(a.isdigit())\n",
    "print(c.isdigit())"
   ]
  },
  {
   "cell_type": "code",
   "execution_count": 4,
   "id": "ca79499c-8cad-410d-b0f3-d27d368fcd57",
   "metadata": {},
   "outputs": [
    {
     "name": "stdout",
     "output_type": "stream",
     "text": [
      "True\n",
      "False\n",
      "True\n",
      "False\n"
     ]
    }
   ],
   "source": [
    "# startswith and endswith\n",
    "# 1. startswith() - returns true if the string starts with the specified characters or word\n",
    "# 2. endswith() - returns true if the string endswith the specified characters or word\n",
    "\n",
    "text = \"Python is Fun\"\n",
    "print(text.startswith(\"Python\"))\n",
    "print(text.startswith(\"p\"))\n",
    "print(text.endswith(\"Fun\"))\n",
    "print(text.endswith(\"F\"))"
   ]
  },
  {
   "cell_type": "code",
   "execution_count": 7,
   "id": "ecdd56a8-d69a-4198-aeb5-0ba58068b2ae",
   "metadata": {},
   "outputs": [
    {
     "name": "stdout",
     "output_type": "stream",
     "text": [
      "  Python is Fun  \n",
      "Python is Fun\n",
      "Python is Fun  \n",
      "  Python is Fun\n"
     ]
    }
   ],
   "source": [
    "# Removing whitespaces\n",
    "# strip() - removes space from both the ends\n",
    "# lstrip() - removes spacs from left side only\n",
    "# rstrip() - removes space from right side only\n",
    "\n",
    "text = \"  Python is Fun  \"\n",
    "print(text)\n",
    "print(text.strip())\n",
    "print(text.lstrip())\n",
    "print(text.rstrip())\n"
   ]
  },
  {
   "cell_type": "code",
   "execution_count": 9,
   "id": "e56bdf04-396b-4d04-bb94-cb01183945f8",
   "metadata": {},
   "outputs": [
    {
     "name": "stdin",
     "output_type": "stream",
     "text": [
      "Enter the name: Pooja\n"
     ]
    },
    {
     "name": "stdout",
     "output_type": "stream",
     "text": [
      "The users name is Pooja and age is 24\n"
     ]
    }
   ],
   "source": [
    "# string formatting\n",
    "# f-strings - in print statement there's no need of putting \"\" to each word  \n",
    "\n",
    "name = input(\"Enter the name:\")\n",
    "age = 24\n",
    "\n",
    "print(f\"The users name is {name} and age is {age}\")\n"
   ]
  },
  {
   "cell_type": "code",
   "execution_count": null,
   "id": "f76f5da1-6ff0-41d4-b145-eb30c7a5791a",
   "metadata": {},
   "outputs": [],
   "source": [
    "# take a string as an user input and check it it's palindrome or not\n",
    "\n",
    "word = input(\"Enter the word\")\n",
    "\n",
    "if word == word[::-1]: # checks if the word is same even when reversed\n",
    "    print(\"The entered string is palindrome\")\n",
    "else:\n",
    "    print(\"The entered string is not palindrome\")"
   ]
  },
  {
   "cell_type": "code",
   "execution_count": 10,
   "id": "1f43ab7a-e8b7-43d4-9371-8e05366b717c",
   "metadata": {},
   "outputs": [
    {
     "name": "stdout",
     "output_type": "stream",
     "text": [
      "['P', 'h', 'n', 'o', 't', 'y']\n",
      "['p', 'r', 't', 'w', 'z']\n"
     ]
    }
   ],
   "source": [
    "# sorted() - returns sorted list\n",
    "\n",
    "\n",
    "a = \"Python\"\n",
    "print(sorted(a))\n",
    "\n",
    "b = [\"z\",\"p\",\"r\",\"t\",\"w\"]\n",
    "print(sorted(b))"
   ]
  },
  {
   "cell_type": "code",
   "execution_count": 5,
   "id": "604e42bf-e79e-41aa-bd17-32b77b6cd0dc",
   "metadata": {},
   "outputs": [
    {
     "name": "stdin",
     "output_type": "stream",
     "text": [
      "Enter a word pooja\n"
     ]
    },
    {
     "name": "stdout",
     "output_type": "stream",
     "text": [
      "Number of characters in the word are: 5\n"
     ]
    }
   ],
   "source": [
    "# take a string as user input and print the number of characters in the string\n",
    "\n",
    "word = input(\"Enter a word\")\n",
    "print(\"Number of characters in the word are:\",len(word))"
   ]
  },
  {
   "cell_type": "code",
   "execution_count": null,
   "id": "e4074472-d3fe-41a6-a410-05ae1bf2ff69",
   "metadata": {},
   "outputs": [],
   "source": [
    "#1.Take user input and find length of the string \n",
    "#2.Take user input and convert the string to lowercase and uppercase\n",
    "#3.Take user input for 2 strings and concatenate the strings\n",
    "#4.Take name as an input and print the greeting\n",
    "#5.Take a string and check if the string starts with or ends with a specific \n",
    "#6.Take a string as user input and print first 4 and last 4 characters of string"
   ]
  },
  {
   "cell_type": "code",
   "execution_count": 6,
   "id": "535ff97e-d487-4187-8abc-db2b86035e27",
   "metadata": {},
   "outputs": [
    {
     "name": "stdin",
     "output_type": "stream",
     "text": [
      "Enter a word Python\n"
     ]
    },
    {
     "name": "stdout",
     "output_type": "stream",
     "text": [
      "Number of characters in the word are: 6\n"
     ]
    }
   ],
   "source": [
    "#1.Take user input and find length of the string \n",
    "\n",
    "word = input(\"Enter a word\")\n",
    "print(\"Number of characters in the word are:\",len(word))"
   ]
  },
  {
   "cell_type": "code",
   "execution_count": 9,
   "id": "43c6fbc6-4e45-4f7d-943a-6f1bb4d3c4d1",
   "metadata": {},
   "outputs": [
    {
     "name": "stdin",
     "output_type": "stream",
     "text": [
      "Enter the word: python\n"
     ]
    },
    {
     "name": "stdout",
     "output_type": "stream",
     "text": [
      "python\n",
      "DATA\n"
     ]
    }
   ],
   "source": [
    "\n",
    "word = input(\"Enter the word:\")\n",
    "word = \"PYTHON\"\n",
    "w2= \"data\"\n",
    "print(word.lower())\n",
    "print(w2.upper())"
   ]
  },
  {
   "cell_type": "code",
   "execution_count": 14,
   "id": "497f2182-56f6-499d-ab3f-0478ad798598",
   "metadata": {},
   "outputs": [
    {
     "name": "stdin",
     "output_type": "stream",
     "text": [
      "Enter the first string: abc\n",
      "Enter the second string: def\n"
     ]
    },
    {
     "name": "stdout",
     "output_type": "stream",
     "text": [
      "concatenation of two strings is abc def\n"
     ]
    }
   ],
   "source": [
    "#3.Take user input for 2 strings and concatenate the strings\n",
    "string1 = input(\"Enter the first string:\")\n",
    "string2 = input(\"Enter the second string:\")\n",
    "print(\"concatenation of two strings is\",string1+\" \"+string2)"
   ]
  },
  {
   "cell_type": "code",
   "execution_count": 12,
   "id": "e5e43340-e1ed-4702-9c30-5e444fc083ff",
   "metadata": {},
   "outputs": [
    {
     "name": "stdin",
     "output_type": "stream",
     "text": [
      "enter your name: Pooja\n"
     ]
    },
    {
     "name": "stdout",
     "output_type": "stream",
     "text": [
      "hello Pooja Good Morning\n"
     ]
    }
   ],
   "source": [
    "#4.Take name as an input and print the greeting\n",
    "name = input(\"enter your name:\")\n",
    "print(\"hello\", name,\"Good Morning\")\n"
   ]
  },
  {
   "cell_type": "code",
   "execution_count": 17,
   "id": "399287c7-fbd8-40ac-a978-c38cf72acbce",
   "metadata": {},
   "outputs": [
    {
     "name": "stdout",
     "output_type": "stream",
     "text": [
      "True\n",
      "True\n"
     ]
    }
   ],
   "source": [
    "#5.Take a string and check if the string starts with or ends with a specific word\n",
    "word = \"Learning the python\"\n",
    "print(word.startswith(\"Learning\"))\n",
    "print(word.endswith(\"n\"))"
   ]
  },
  {
   "cell_type": "code",
   "execution_count": 20,
   "id": "fc5a402a-75f0-4b53-b3f8-348c2dd69d8f",
   "metadata": {},
   "outputs": [
    {
     "name": "stdin",
     "output_type": "stream",
     "text": [
      "Enter the string: Pooja Bhilare\n"
     ]
    },
    {
     "name": "stdout",
     "output_type": "stream",
     "text": [
      "Poo\n",
      "lare\n"
     ]
    }
   ],
   "source": [
    "#6.Take a string as user input and print first 4 and last 4 characters of string\n",
    "string1 = input(\"Enter the string:\")\n",
    "print(string1[0:3])\n",
    "print(string1[-4:])\n"
   ]
  },
  {
   "cell_type": "code",
   "execution_count": 40,
   "id": "1966bd8c-6065-42cf-9970-34d8a72c88f7",
   "metadata": {},
   "outputs": [
    {
     "name": "stdout",
     "output_type": "stream",
     "text": [
      "[12, 13, 14, 15, 16]\n",
      "[12, 13, 14, 15, 16, 17, 18, 19, 20, 21, 22, 23]\n",
      "[11, 12, 13, 14, 15, 16, 17, 18, 19, 20, 21, 22, 23]\n",
      "[11, 12, 13, 14, 15, 16, 17, 18, 19, 20, 21, 22]\n",
      "[11, 12, 13, 14, 15, 16, 17, 18, 19, 20, 21]\n",
      "[11, 12, 13, 14, 15, 16, 17, 18, 19, 20]\n",
      "[11, 13, 14, 15, 16, 17, 18, 19, 20]\n",
      "[11, 13, 14, 15, 16, 17, 18, 19, 20]\n",
      "[]\n",
      "[11, 13, 14, 15, 16, 17, 18, 19, 20]\n",
      "[11, 13, 14, 15, 16, 17, 18, 19, 20]\n",
      "[20, 19, 18, 17, 16, 15, 14, 13, 11]\n",
      "0\n",
      "20\n",
      "11\n",
      "9\n",
      "143\n",
      "[20, 19, 18, 17, 16, 15, 14, 13, 11]\n"
     ]
    }
   ],
   "source": [
    "# list methods and functions\n",
    "# list - ordered collection of values / items of any data type. list is mutable i.e it can be changed anytime\n",
    "\n",
    "list1 = [12,13,14,15]\n",
    "\n",
    "#1.append() - adds an item to the last\n",
    "\n",
    "list1.append(16)\n",
    "print(list1)\n",
    "\n",
    "#2.extend() - adds mutiple items or even list or tuple\n",
    "\n",
    "list1.extend((17,18,19,20)) # list extends tuple\n",
    "list1.extend((21,22,23)) #list extends list\n",
    "print(list1)\n",
    "\n",
    "#3. insert(index,value) - adds the item at the specified index\n",
    "\n",
    "list1.insert(0,11)\n",
    "print(list1)\n",
    "\n",
    "#4. remove() - removes the specified item\n",
    "\n",
    "list1.remove(23)\n",
    "print(list1)\n",
    "\n",
    "list1.remove(22)\n",
    "print(list1)\n",
    "\n",
    "#5.pop() - removes the item from specified index\n",
    "\n",
    "list1.pop() #removes last element if the index is not specified\n",
    "print(list1)\n",
    "\n",
    "list1.pop(1)\n",
    "print(list1)\n",
    "\n",
    "#6. index() - returns the index of the specified value\n",
    "\n",
    "list1.index(15)\n",
    "\n",
    "#7. copy() - creates the copy of the list\n",
    "\n",
    "list2 = list1.copy()\n",
    "print(list2)\n",
    "\n",
    "#8. clear() - returns the empty list\n",
    "\n",
    "list2.clear()\n",
    "print(list2)\n",
    "\n",
    "#9. sort() - sort the items in ascending order\n",
    "\n",
    "#list1.sort(reverse = True)\n",
    "print(list1)\n",
    "\n",
    "#10. count() - counts the number of occurence of the specified value\n",
    "\n",
    "list1.count(20)\n",
    "\n",
    "#11.reverse() - change the order of the list. list starts in reverse order(last item first)\n",
    "\n",
    "print(list1)\n",
    "list1.reverse()\n",
    "print(list1)\n",
    "\n",
    "print(list1.index(20))\n",
    "\n",
    "#list functions\n",
    "#12. max() - returns the element/item of maximum value\n",
    "#min() returns the element/item of minimum value \n",
    "\n",
    "\n",
    "print(max(list1))\n",
    "print(min(list1))\n",
    "\n",
    "#13. len()  - returns the length of the list\n",
    "\n",
    "print(len(list1))\n",
    "\n",
    "#14.sum() - returns the total(sum) of the item in the list\n",
    "\n",
    "print(sum(list1))\n",
    "\n",
    "#15. sorted() - sort the items in the list\n",
    "\n",
    "print(sorted(list1,reverse = True))"
   ]
  },
  {
   "cell_type": "code",
   "execution_count": 48,
   "id": "9f284d2e-ddfb-4059-8dab-a2d2806dd130",
   "metadata": {},
   "outputs": [
    {
     "name": "stdout",
     "output_type": "stream",
     "text": [
      "2\n",
      "3\n",
      "5\n",
      "15\n",
      "12\n",
      "66\n",
      "('h', 'e', 'l', 'l', 'o')\n",
      "(1, 2, 3, 4)\n",
      "1\n",
      "2\n",
      "3\n",
      "4\n"
     ]
    }
   ],
   "source": [
    "# tuple - Tuple is an ordered collection of items of any data type and tuple is immutable\n",
    "\n",
    "t=(12, 13, 14, 15, 12)\n",
    "1.# count - counts the number of occurence of the specified value\n",
    "\n",
    "print(t.count(12))\n",
    "\n",
    "#index() - returns the index value of the specified item\n",
    "\n",
    "print(t.index(15))\n",
    "\n",
    "#tuple functions\n",
    "\n",
    "#len()  - returns the length of the tuple(number of items in tuple)\n",
    "\n",
    "print(len(t))\n",
    "\n",
    "#max() - returns the maximum value in tuple  \n",
    "#min() - returns the minimum value in tuple\n",
    "\n",
    "print(max(t))\n",
    "print(min(t))\n",
    "\n",
    "#sum() - returns the total(sum) of all the items in tuple\n",
    "\n",
    "print(sum(t))\n",
    "\n",
    "#tuple() - creates/converts a tuple of the given data type\n",
    "\n",
    "t1 = \"hello\"\n",
    "print(tuple(t1))\n",
    "\n",
    "#packing in tuple - assigning multiple values to tuple\n",
    "\n",
    "a = 1,2,3,4\n",
    "print(a)\n",
    "\n",
    "#unpacking in tuple - assigning tuple values to multiple variables \n",
    "\n",
    "b,c,d,e = a\n",
    "print(b)\n",
    "print(c)\n",
    "print(d)\n",
    "print(e)\n",
    "\n"
   ]
  },
  {
   "cell_type": "code",
   "execution_count": null,
   "id": "ceede0b9-969b-45af-8771-f97e1a7226d1",
   "metadata": {},
   "outputs": [],
   "source": []
  },
  {
   "cell_type": "code",
   "execution_count": 81,
   "id": "72cf1e21-80a3-46a4-be98-58dab31a4115",
   "metadata": {},
   "outputs": [
    {
     "name": "stdout",
     "output_type": "stream",
     "text": [
      "{24, 21, 22, 23}\n",
      "{21, 22, 23, 24, 25}\n",
      "{21, 22, 23, 24, 25, 26, 27, 28, 29, 30}\n",
      "{22, 23, 24, 25, 26, 27, 28, 29, 30}\n",
      "{23, 24, 25, 26, 27, 28, 29, 30}\n",
      "{24, 25, 26, 27, 28, 29, 30}\n",
      "set()\n",
      "{1, 2, 3, 4}\n",
      "{3, 4}\n",
      "{1, 2}\n",
      "{2, 4}\n",
      "{8, 6}\n",
      "{1, 3}\n",
      "{1, 3, 6, 8}\n",
      "True\n",
      "True\n",
      "False\n",
      "True\n",
      "3\n",
      "3\n",
      "1\n",
      "15\n",
      "[1, 2, 3]\n"
     ]
    }
   ],
   "source": [
    "# set methods and functions\n",
    "\n",
    "#set - set is unordered collection of unique item of any datatype\n",
    "\n",
    "s = {21, 22, 23, 24}\n",
    "print(s)\n",
    "\n",
    "#add(item) - adds a single item to the set\n",
    "\n",
    "s.add(25)\n",
    "print(s)\n",
    "\n",
    "#update(value/iterables) - adds multiple items to the set(can be a list , tuple, set)\n",
    "\n",
    "s.update([26,27,28,29,30])\n",
    "print(s)\n",
    "\n",
    "#remove() - removes the specified item\n",
    "\n",
    "s.remove(21)\n",
    "print(s)\n",
    "\n",
    "#discard() - removes the specified item , but does not raise any error if the item isn't in the set\n",
    "\n",
    "s.discard(22)\n",
    "s.discard(20)\n",
    "print(s)\n",
    "\n",
    "#pop() - removes any random element\n",
    "\n",
    "s.pop()\n",
    "print(s)\n",
    "\n",
    "#clear()  - empties the set , return empty set\n",
    "\n",
    "s.clear()\n",
    "print(s)\n",
    "\n",
    "#Mathematical operations on set\n",
    "\n",
    "#1. union() - combines elements/items of the sets\n",
    "\n",
    "s1 = {1,2}\n",
    "s2 = {3,4}\n",
    "print(s2.union(s1))\n",
    "print(s2)\n",
    "print(s1)\n",
    "\n",
    "#2. intersection() - returns common items/elements of two set\n",
    "\n",
    "s1 = {1,2,3,4}\n",
    "s2 = {2,4,6,8}\n",
    "print(s1.intersection(s2))\n",
    "\n",
    "#3. difference() - returns the uncommon elements/items in two sets\n",
    "\n",
    "print(s2.difference(s1))\n",
    "print(s1.difference(s2))\n",
    "\n",
    "#4. symmetric difference() - returns uncommon elements/items which isn't present in another set\n",
    "\n",
    "print(s2.symmetric_difference(s1))\n",
    "\n",
    "#5. issubset()  - checks if all items of set1 are present in set2\n",
    "\n",
    "s1 = {1,2,3}\n",
    "s2 = {1,2,3,4,5,6}\n",
    "print(s1.issubset(s2))\n",
    "\n",
    "#6. issuperset() - checks if both the sets do not have any common element/items\n",
    "\n",
    "print(s2.issuperset(s1))\n",
    "print(s1.issuperset(s2))\n",
    "\n",
    "#7. isdisjoint() - checks if both the sets do not have any common element/items\n",
    "\n",
    "s1 = {1,2,3}\n",
    "s2 = {4,5,6}\n",
    "print(s2.isdisjoint(s1))\n",
    "\n",
    "# set functions \n",
    "\n",
    "#len()\n",
    "\n",
    "print(len(s1))\n",
    "\n",
    "# max()\n",
    "#min()\n",
    "print(max(s1))\n",
    "print(min(s1))\n",
    "\n",
    "#sum()\n",
    "\n",
    "print(sum(s2))\n",
    "\n",
    "#sorted()\n",
    "print(sorted(s1))\n"
   ]
  },
  {
   "cell_type": "code",
   "execution_count": 13,
   "id": "1a9d4e60-a5ca-4da9-a247-c81c922f3a80",
   "metadata": {},
   "outputs": [
    {
     "name": "stdout",
     "output_type": "stream",
     "text": [
      "{'name': 'abc', 'age': '25', 'city': 'pune'}\n",
      "abc\n",
      "india\n",
      "None\n",
      "dict_keys(['name', 'age', 'city'])\n",
      "dict_values(['abc', '25', 'pune'])\n",
      "dict_items([('name', 'abc'), ('age', '25'), ('city', 'pune')])\n",
      "{'name': 'def', 'age': '25', 'city': 'pune', 'state': 'Maharashtra'}\n",
      "25\n",
      "{'name': 'def', 'city': 'pune', 'state': 'Maharashtra'}\n",
      "('state', 'Maharashtra')\n",
      "{'name': 'def', 'city': 'pune'}\n",
      "pune\n",
      "India\n",
      "{'name': 'def', 'city': 'pune', 'country': 'India'}\n",
      "{'name': 'def', 'city': 'pune', 'country': 'India'}\n",
      "{}\n",
      "3\n",
      "{'name': 'def', 'city': 'pune', 'country': 'India'}\n",
      "<class 'dict'>\n",
      "name\n",
      "city\n",
      "country\n",
      "name def\n",
      "city pune\n",
      "country India\n",
      "('name', 'def')\n",
      "('city', 'pune')\n",
      "('country', 'India')\n"
     ]
    }
   ],
   "source": [
    "# dictionary methods and functions\n",
    "\n",
    "#dictionary - collection of key and value pair , keys should be unique, values can be of any types or even repeated \n",
    "\n",
    "info = {\"name\":\"abc\", \"age\":\"25\" ,\"city\":\"pune\"}\n",
    "print(info)\n",
    "\n",
    "#1.get (key, default)  - returns the values of the specified key, incase if key isn't added returns the default value \n",
    "#if default value isn't mentioned it returns null\n",
    "\n",
    "print(info.get(\"name\"))\n",
    "print(info.get(\"country\",\"india\"))\n",
    "print(info.get(\"state\"))\n",
    "\n",
    "#2. keys() - returns all keys in the dictionary\n",
    "\n",
    "print(info.keys())\n",
    "\n",
    "#3. values() - returns all values in the dictionary\n",
    "\n",
    "print(info.values())\n",
    "\n",
    "#4.items () - returns all the items ( key :value pairs) in the dictionary\n",
    "\n",
    "print(info.items())\n",
    "\n",
    "#5. update() - add key and value pairs if not existing, if existing updates the pair\n",
    "info.update({\"state\":\"Maharashtra\", \"name\":\"def\"})\n",
    "print(info)\n",
    "\n",
    "\n",
    "#6. pop(key) - removes the key and returns the value\n",
    "\n",
    "print(info.pop(\"age\"))\n",
    "print(info)\n",
    "\n",
    "#7.popitem() - removes the last key and value pair\n",
    "\n",
    "print(info.popitem())\n",
    "print(info)\n",
    "\n",
    "#8 .setdefault (key , default) - sets the key value if key doesn't exist, adds the key and value if it isn't already present in the dictionary\n",
    "# if the key exists , return the original value\n",
    "\n",
    "print(info.setdefault(\"city\", \"Mumbai\"))\n",
    "print(info.setdefault(\"country\",\"India\"))\n",
    "print(info)\n",
    "\n",
    "#9. copy() - create a copy of  the dictionary\n",
    "\n",
    "info1 = info.copy()\n",
    "print(info1)\n",
    "\n",
    "#10. clear() - clears the content of the dictionary\n",
    "\n",
    "info1.clear()\n",
    "print(info1)\n",
    "\n",
    "# dictionary functions\n",
    "\n",
    "#1. len() - returns the total number of key value pairs\n",
    "\n",
    "print(len(info))\n",
    "\n",
    "#2. str() - returns the string representation of the dictionary\n",
    "\n",
    "print(str(info))\n",
    "\n",
    "#3. type() - returns the datatype - dict()\n",
    "\n",
    "print(type(info))\n",
    "\n",
    "\n",
    "#looping through dictionaries\n",
    "\n",
    "#key only\n",
    "\n",
    "for key in info:\n",
    "    print(key)\n",
    "\n",
    "#key and values\n",
    "\n",
    "for key , value in info.items():\n",
    "  print(key, value)\n",
    "for value in info.items():\n",
    "    print(value)\n",
    "\n"
   ]
  },
  {
   "cell_type": "code",
   "execution_count": 33,
   "id": "d21fd022-2c28-4c99-b83c-5d53d9e0b600",
   "metadata": {},
   "outputs": [
    {
     "name": "stdout",
     "output_type": "stream",
     "text": [
      "5\n",
      "Hello welcome to python\n"
     ]
    },
    {
     "data": {
      "text/plain": [
       "6"
      ]
     },
     "execution_count": 33,
     "metadata": {},
     "output_type": "execute_result"
    }
   ],
   "source": [
    "# Functions - reusable block of code to perform a specific task\n",
    "#1. user defined functions complusory use parameters\n",
    "#2. Built in functions\n",
    "\n",
    "\"\"\" Functions in python have  to be declared using def keyword, the components of functions are function_name,parameters,return value,arguments.\n",
    "parameters are placeholders(they do not contain actual values), whereas arguments contain actual values and are passed during function call.\n",
    "To execute a functions you nedd to call the function using function name along with round brackets.if there are any arguments we pass it inside the function call\"\"\"\n",
    "\n",
    "def add(x,y): #x,y parameters\n",
    "    return(x+y)\n",
    "print (add(2,3))  #2,3 - arguments-actual values\n",
    "\n",
    "def greet(): # function declaration\n",
    "  print(\"Hello welcome to python\") #function block of code\n",
    "\n",
    "greet() # function calling\n",
    "\n",
    "def multiply(x,y):\n",
    "   return(x*y)\n",
    "multiply(2,3)"
   ]
  },
  {
   "cell_type": "code",
   "execution_count": 49,
   "id": "ca281108-16bc-46d0-b409-e922cb918b66",
   "metadata": {},
   "outputs": [
    {
     "name": "stdout",
     "output_type": "stream",
     "text": [
      "(5, -1)\n"
     ]
    }
   ],
   "source": [
    "def work(a,b) :\n",
    "    return a+b,a-b\n",
    "print(work(2,3))"
   ]
  },
  {
   "cell_type": "code",
   "execution_count": 56,
   "id": "90a6a8f4-d1e7-4b89-8544-9623ca1db8d2",
   "metadata": {},
   "outputs": [
    {
     "name": "stdout",
     "output_type": "stream",
     "text": [
      "[4, 16, 36, 64]\n"
     ]
    }
   ],
   "source": [
    " # built in functions\n",
    "\n",
    "l1 = [2,4,6,8]\n",
    "#1. map() - map(functions,iterable) - applies the specified function to each item in an iterables\n",
    "\n",
    "def square(x):\n",
    "    return x**2\n",
    "\n",
    "res = map(square,l1)\n",
    "print(list(res))"
   ]
  },
  {
   "cell_type": "code",
   "execution_count": 65,
   "id": "d19fd97d-21ac-4813-9c89-6a9a575938a8",
   "metadata": {},
   "outputs": [
    {
     "name": "stdout",
     "output_type": "stream",
     "text": [
      "[2, 4, 6, 8]\n"
     ]
    }
   ],
   "source": [
    "#2. filter -  filter(function ,iterables) - filters out the iterables based on the specified condition\n",
    "\n",
    "l2=[2,3,4,5,6,7,8,9]\n",
    "\n",
    "def even(x):\n",
    "  if x%2 == 0:\n",
    "    return x\n",
    "\n",
    "res = filter(even,l2)\n",
    "print(list(res))"
   ]
  },
  {
   "cell_type": "code",
   "execution_count": 71,
   "id": "65208135-88c1-4463-b157-4eaa2872bab7",
   "metadata": {},
   "outputs": [
    {
     "name": "stdout",
     "output_type": "stream",
     "text": [
      "33\n"
     ]
    }
   ],
   "source": [
    "#3. reduce() - reduce(function,iterables) - returns a single value based on specified condition\n",
    "#**Mandatory - in order to use reduce import it from functools library\n",
    "\n",
    "from functools import reduce\n",
    "l2 = [2,3,4,7,8,9]\n",
    "def add(x,y):\n",
    "  return x+y\n",
    "    \n",
    "res1 = reduce(add,l2)\n",
    "print(res1)"
   ]
  },
  {
   "cell_type": "code",
   "execution_count": 74,
   "id": "cbe15c26-c6ab-43f1-aac8-a763bda359a8",
   "metadata": {},
   "outputs": [
    {
     "name": "stdout",
     "output_type": "stream",
     "text": [
      "15\n"
     ]
    },
    {
     "data": {
      "text/plain": [
       "56"
      ]
     },
     "execution_count": 74,
     "metadata": {},
     "output_type": "execute_result"
    }
   ],
   "source": [
    "#4. lambda -  A small anonymous function can have more than 1 expression but will always have an argument.\n",
    "#lamba expression: argument\n",
    "\n",
    "add = lambda x,y : x+y\n",
    "add(7,8)"
   ]
  },
  {
   "cell_type": "code",
   "execution_count": 75,
   "id": "8e6a075d-e2a6-4966-8d75-5727fd81e1f9",
   "metadata": {},
   "outputs": [
    {
     "name": "stdout",
     "output_type": "stream",
     "text": [
      "[100, 4, 9, 16, 25, 36, 49]\n"
     ]
    }
   ],
   "source": [
    "num = [10,2,3,4,5,6,7]\n",
    "square = list(map(lambda x : x**2 , num))\n",
    "print(square) "
   ]
  },
  {
   "cell_type": "code",
   "execution_count": 77,
   "id": "26764c6c-f1a3-4b88-b9f5-85f8cd06afd6",
   "metadata": {},
   "outputs": [
    {
     "name": "stdout",
     "output_type": "stream",
     "text": [
      "Hello worldHello abc\n"
     ]
    },
    {
     "data": {
      "text/plain": [
       "<function TextIOWrapper.close()>"
      ]
     },
     "execution_count": 77,
     "metadata": {},
     "output_type": "execute_result"
    }
   ],
   "source": [
    "#file handling - used to create,read,write and update the files\n",
    "\n",
    "#opem ()  - used to work files\n",
    "\n",
    "#modes ()  - \n",
    "\n",
    "# 'r' - reads the file (default file  mode)\n",
    "# 'w' - writes the file(will overwritw thw file if used on a file with any content)\n",
    "# 'a' - append mode . adds the content without overwriting\n",
    "# 'x' - create mode - creates the file raises an error if the file already exists\n",
    "\n",
    "f = open(\"abc.txt\",\"w\")\n",
    "f.write(\"Hello world\")\n",
    "f.write(\"Hello abc\")\n",
    "f.close()\n",
    "\n",
    "f= open(\"abc.txt\", \"r\")\n",
    "content = f.read()\n",
    "print(content)\n",
    "f.close\n"
   ]
  },
  {
   "cell_type": "code",
   "execution_count": 82,
   "id": "9422dabb-0d36-4b27-b845-e38d08bf40ed",
   "metadata": {},
   "outputs": [
    {
     "name": "stdout",
     "output_type": "stream",
     "text": [
      "Hello pythonHello data science\n"
     ]
    }
   ],
   "source": [
    "# write mode\n",
    "\n",
    "f = open(\"abc.txt\",\"w\")\n",
    "f.write(\"Hello python\")\n",
    "f.write(\"Hello data science\")\n",
    "f.close()\n",
    "\n",
    "\n",
    "\n",
    "# read mode\n",
    "\n",
    "f = open(\"abc.txt\", \"r\")\n",
    "content = f.read()\n",
    "print(content)\n",
    "f.close()"
   ]
  },
  {
   "cell_type": "code",
   "execution_count": 85,
   "id": "7d99d047-49c6-4fe0-9c02-8b79fcd4c57d",
   "metadata": {},
   "outputs": [],
   "source": [
    "# append mode\n",
    "\n",
    "f = open(\"abc.txt\",\"a\")\n",
    "f.write(\"Hello world\")\n",
    "f.write(\"Hello Data Analysis\")\n",
    "f.close()\n"
   ]
  },
  {
   "cell_type": "code",
   "execution_count": 84,
   "id": "78046754-2ca7-424f-8867-4f5a1f02b3da",
   "metadata": {},
   "outputs": [],
   "source": [
    "# write mode\n",
    "\n",
    "f = open(\"abc.txt\",\"w\")\n",
    "f.write(\"Hello python\")\n",
    "f.write(\"Hello data science\")\n",
    "f.close()"
   ]
  },
  {
   "cell_type": "code",
   "execution_count": 86,
   "id": "06d1b5fd-38ad-41fc-b45a-5e166e3fdb91",
   "metadata": {},
   "outputs": [
    {
     "name": "stdout",
     "output_type": "stream",
     "text": [
      "Hello pythonHello data scienceHello worldHello Data Analysis\n"
     ]
    }
   ],
   "source": [
    "f = open(\"abc.txt\", \"r\")\n",
    "content = f.read()\n",
    "print(content)\n",
    "f.close()"
   ]
  },
  {
   "cell_type": "code",
   "execution_count": null,
   "id": "3f08c6c5-1076-4ef4-b0ea-43071e4cea35",
   "metadata": {},
   "outputs": [],
   "source": [
    "f = open(\"def.txt\",\"x\") #creating a text file using create mode"
   ]
  },
  {
   "cell_type": "code",
   "execution_count": 87,
   "id": "c49ac10f-630d-4826-8296-9e7b1d63657e",
   "metadata": {},
   "outputs": [],
   "source": [
    "f = open(\"def.txt\",\"w\")\n",
    "f.write(\"\\nHello Rutuja\")\n",
    "f.write(\"\\nHello Pooja\")\n",
    "f.write(\"\\nHello shreya\")\n",
    "f.close()"
   ]
  },
  {
   "cell_type": "code",
   "execution_count": 89,
   "id": "4b00ff12-ce92-4f35-b32f-a649f54e8077",
   "metadata": {},
   "outputs": [
    {
     "name": "stdout",
     "output_type": "stream",
     "text": [
      "\n",
      "Hello Rutuja\n",
      "Hello Pooja\n",
      "Hello shreya\n"
     ]
    }
   ],
   "source": [
    "f = open(\"def.txt\", \"r\")\n",
    "content = f.read()\n",
    "print(content)\n",
    "f.close()"
   ]
  },
  {
   "cell_type": "code",
   "execution_count": 92,
   "id": "319c2194-e371-4346-8a7a-f6f534469515",
   "metadata": {},
   "outputs": [
    {
     "name": "stdout",
     "output_type": "stream",
     "text": [
      "\n",
      "\n",
      "Hello Rutuja\n",
      "\n",
      "Hello Pooja\n",
      "\n",
      "Hello shreya\n"
     ]
    }
   ],
   "source": [
    "f = open(\"def.txt\", \"r\")\n",
    "for line in f:\n",
    "   print(line)\n",
    "f.close()"
   ]
  },
  {
   "cell_type": "code",
   "execution_count": 93,
   "id": "1bd957a1-eb7b-40c3-934b-a93973fc4bb6",
   "metadata": {},
   "outputs": [
    {
     "name": "stdout",
     "output_type": "stream",
     "text": [
      "\n",
      "\n",
      "['Hello Rutuja\\n', 'Hello Pooja\\n', 'Hello shreya']\n"
     ]
    }
   ],
   "source": [
    "# readline and readlines()\n",
    "\n",
    "f = open(\"def.txt\", \"r\")\n",
    "print(f.readline()) # will read only one line\n",
    "print(f.readlines()) # will read all the lines\n",
    "f.close()"
   ]
  },
  {
   "cell_type": "code",
   "execution_count": 94,
   "id": "44e8f3cc-c64b-4c51-9c24-40a558a01f38",
   "metadata": {},
   "outputs": [
    {
     "name": "stdout",
     "output_type": "stream",
     "text": [
      "\n",
      "Hello Rutuja\n",
      "Hello Pooja\n",
      "Hello shreya\n"
     ]
    }
   ],
   "source": [
    "# opening files using with statement\n",
    "\n",
    "with open(\"def.txt\",\"r\") as f:\n",
    "    content = f.read()\n",
    "    print(content)\n",
    "  "
   ]
  },
  {
   "cell_type": "code",
   "execution_count": null,
   "id": "71bb3f6a-f1de-47a5-8b4d-b4e3e277a80d",
   "metadata": {},
   "outputs": [],
   "source": []
  }
 ],
 "metadata": {
  "kernelspec": {
   "display_name": "Python 3 (ipykernel)",
   "language": "python",
   "name": "python3"
  },
  "language_info": {
   "codemirror_mode": {
    "name": "ipython",
    "version": 3
   },
   "file_extension": ".py",
   "mimetype": "text/x-python",
   "name": "python",
   "nbconvert_exporter": "python",
   "pygments_lexer": "ipython3",
   "version": "3.13.3"
  }
 },
 "nbformat": 4,
 "nbformat_minor": 5
}
