{
 "cells": [
  {
   "cell_type": "code",
   "execution_count": 2,
   "id": "de1f0534-e805-47c5-9693-2dfdf17265f4",
   "metadata": {},
   "outputs": [
    {
     "name": "stdin",
     "output_type": "stream",
     "text": [
      "Enter the number of units consumed:  6\n"
     ]
    },
    {
     "name": "stdout",
     "output_type": "stream",
     "text": [
      "Total electricity bill: ₹12\n"
     ]
    }
   ],
   "source": [
    "#1. Take units consumed as input and calculate bill:\n",
    "\n",
    "#First 100 units: ₹2/unit\n",
    "#Next 100 units (101–200): ₹3/unit\n",
    "#Above 200 units: ₹5/unit\n",
    "\n",
    "\n",
    "\n",
    "units = int(input(\"Enter the number of units consumed: \"))\n",
    "bill = 0\n",
    "if units <= 100:\n",
    "    bill = units * 2\n",
    "elif units <= 200:\n",
    "    bill = (100 * 2) + (units - 100) * 3\n",
    "else:\n",
    "    bill = (100 * 2) + (100 * 3) + (units - 200) * 5\n",
    "print(f\"Total electricity bill: ₹{bill}\")\n",
    "\n"
   ]
  },
  {
   "cell_type": "code",
   "execution_count": 3,
   "id": "3d365a41-45f8-45a6-9c81-a1da5483d540",
   "metadata": {},
   "outputs": [
    {
     "name": "stdin",
     "output_type": "stream",
     "text": [
      "Enter the current temperature in °C:  6\n"
     ]
    },
    {
     "name": "stdout",
     "output_type": "stream",
     "text": [
      "Too Cold\n"
     ]
    }
   ],
   "source": [
    "#2. Temperature Status\n",
    "#Ask the user to input the current temperature:\n",
    "#If < 10°C → “Too Cold”\n",
    "#10–25°C → “Moderate”\n",
    "#25°C → “Hot”\n",
    "\n",
    "temperature = float(input(\"Enter the current temperature in °C: \"))\n",
    "if temperature < 10:\n",
    "    print(\"Too Cold\")\n",
    "elif temperature < 25:\n",
    "    print(\"Moderate\")\n",
    "else:\n",
    "    print(\"Hot\")\n",
    "    \n"
   ]
  },
  {
   "cell_type": "code",
   "execution_count": null,
   "id": "bf3b6c72-d0b7-46cf-b50c-6ce3082bb8b7",
   "metadata": {},
   "outputs": [],
   "source": [
    "#.Take 3 side lengths as input and check if a triangle is possible (sum of any two sides must be greater than the third).\n",
    "\n",
    "a = float(input(\"Enter side a: \"))\n",
    "b = float(input(\"Enter side b: \"))\n",
    "c = float(input(\"Enter side c: \"))\n"
   ]
  },
  {
   "cell_type": "code",
   "execution_count": 3,
   "id": "e52a3c91-ecd2-4893-bd6d-4b812d4e0f30",
   "metadata": {},
   "outputs": [
    {
     "name": "stdin",
     "output_type": "stream",
     "text": [
      "Enter a number (0 to stop):  8\n",
      "Enter a number (0 to stop):  0\n"
     ]
    },
    {
     "name": "stdout",
     "output_type": "stream",
     "text": [
      "Total sum is: 8.0\n"
     ]
    }
   ],
   "source": [
    "#Keep accepting numbers until user enters 0. At the end, print the total sum.\n",
    "\n",
    "\n",
    "total = 0\n",
    "while True:\n",
    "    num = float(input(\"Enter a number (0 to stop): \"))\n",
    "    if num == 0:\n",
    "        break\n",
    "    total += num\n",
    "print(f\"Total sum is: {total}\")\n"
   ]
  },
  {
   "cell_type": "code",
   "execution_count": 1,
   "id": "8a16cd83-67a6-493a-ab9a-365c0a331925",
   "metadata": {},
   "outputs": [
    {
     "name": "stdin",
     "output_type": "stream",
     "text": [
      "Enter your monthly salary:  50000\n"
     ]
    },
    {
     "name": "stdout",
     "output_type": "stream",
     "text": [
      "5% tax applied.\n",
      "Annual salary after tax (if any): ₹ 570000.0\n"
     ]
    }
   ],
   "source": [
    "#Take monthly salary and compute annual salary. If it exceeds ₹5,00,000, apply 5% tax.\n",
    "\n",
    "\n",
    "monthly_salary = float(input(\"Enter your monthly salary: \"))\n",
    "annual_salary = monthly_salary * 12\n",
    "if annual_salary > 500000:\n",
    "    tax = annual_salary * 0.05\n",
    "    annual_salary = annual_salary - tax\n",
    "    print(\"5% tax applied.\")\n",
    "else:\n",
    "    print(\"No tax applied.\")\n",
    "print(\"Annual salary after tax (if any): ₹\", annual_salary)\n"
   ]
  },
  {
   "cell_type": "code",
   "execution_count": 2,
   "id": "34689451-b312-4956-96f7-23753169eb87",
   "metadata": {},
   "outputs": [
    {
     "name": "stdin",
     "output_type": "stream",
     "text": [
      "Enter your daily water intake in liters:  6\n"
     ]
    },
    {
     "name": "stdout",
     "output_type": "stream",
     "text": [
      "Too much water\n"
     ]
    }
   ],
   "source": [
    "# Ask for daily water intake in liters. If <2 → “Drink more water”, 2–3 → “Healthy”, >3 → “Too much water”.\n",
    "\n",
    "\n",
    "water = float(input(\"Enter your daily water intake in liters: \"))\n",
    "if water < 2:\n",
    "    print(\"Drink more water\")\n",
    "elif water <= 3:\n",
    "    print(\"Healthy\")\n",
    "else:\n",
    "    print(\"Too much water\")\n"
   ]
  },
  {
   "cell_type": "code",
   "execution_count": 3,
   "id": "50e2234e-3538-4fd2-92f3-70debc955bab",
   "metadata": {},
   "outputs": [
    {
     "name": "stdin",
     "output_type": "stream",
     "text": [
      "Enter the total bill amount:  9000\n",
      "Enter the number of friends:  6\n"
     ]
    },
    {
     "name": "stdout",
     "output_type": "stream",
     "text": [
      "Each friend should pay: ₹ 1500.0\n"
     ]
    }
   ],
   "source": [
    "#. Take the total bill amount and the number of friends as input. Print how much each friend should pay. If the amount doesn’t divide equally, round off to 2 decimal places.\n",
    "\n",
    "bill = float(input(\"Enter the total bill amount: \"))\n",
    "friends = int(input(\"Enter the number of friends: \"))\n",
    "share = bill / friends\n",
    "print(\"Each friend should pay: ₹\", round(share, 2))\n"
   ]
  },
  {
   "cell_type": "code",
   "execution_count": null,
   "id": "104c9a71-0aac-4fc7-af1d-2bff00f1a9a5",
   "metadata": {},
   "outputs": [],
   "source": [
    "#Take 5 numbers as input from the user and calculate the sum of numbers entered at even positions (index 1, 3).\n"
   ]
  },
  {
   "cell_type": "code",
   "execution_count": 1,
   "id": "97b09917-b658-4663-85d2-6786997a9263",
   "metadata": {},
   "outputs": [
    {
     "name": "stdin",
     "output_type": "stream",
     "text": [
      "Enter a number:  3\n"
     ]
    },
    {
     "name": "stdout",
     "output_type": "stream",
     "text": [
      "The number is Odd\n"
     ]
    }
   ],
   "source": [
    "#Write a function to check even and odd numbers\n",
    "\n",
    "def check_even_odd(number):\n",
    "    if number % 2 == 0:\n",
    "        print(\"The number is Even\")\n",
    "    else:\n",
    "        print(\"The number is Odd\")\n",
    "num = int(input(\"Enter a number: \"))\n",
    "check_even_odd(num)\n"
   ]
  },
  {
   "cell_type": "code",
   "execution_count": 2,
   "id": "8a16473c-700e-4378-986f-d5c1e0d0b56a",
   "metadata": {},
   "outputs": [
    {
     "name": "stdin",
     "output_type": "stream",
     "text": [
      "Enter the length:  45\n",
      "Enter the width:  34\n"
     ]
    },
    {
     "name": "stdout",
     "output_type": "stream",
     "text": [
      "Area of the rectangle is: 1530.0\n"
     ]
    }
   ],
   "source": [
    "# write a function to find area of rectangle ( length * width) \n",
    "\n",
    "\n",
    "def find_area(length, width):\n",
    "    area = length * width\n",
    "    return area\n",
    "l = float(input(\"Enter the length: \"))\n",
    "w = float(input(\"Enter the width: \"))\n",
    "result = find_area(l, w)\n",
    "print(\"Area of the rectangle is:\", result)\n"
   ]
  },
  {
   "cell_type": "code",
   "execution_count": null,
   "id": "4ed17f32-b696-4f5b-95e3-5e1375e68fc1",
   "metadata": {},
   "outputs": [],
   "source": [
    "# write a function to subtract all the elements in a given list and return the subtracted value\n",
    "\n"
   ]
  }
 ],
 "metadata": {
  "kernelspec": {
   "display_name": "Python 3 (ipykernel)",
   "language": "python",
   "name": "python3"
  },
  "language_info": {
   "codemirror_mode": {
    "name": "ipython",
    "version": 3
   },
   "file_extension": ".py",
   "mimetype": "text/x-python",
   "name": "python",
   "nbconvert_exporter": "python",
   "pygments_lexer": "ipython3",
   "version": "3.13.3"
  }
 },
 "nbformat": 4,
 "nbformat_minor": 5
}
