{
 "cells": [
  {
   "cell_type": "code",
   "execution_count": 24,
   "id": "13f33ce3-1d9e-4ec4-8743-1f4f16dbf7ff",
   "metadata": {},
   "outputs": [
    {
     "name": "stdout",
     "output_type": "stream",
     "text": [
      "100\n"
     ]
    }
   ],
   "source": [
    "# Write a program to find the sum of all elements in a list.\n",
    "\n",
    "num = [10,20,30,40]\n",
    "print(sum(num))"
   ]
  },
  {
   "cell_type": "code",
   "execution_count": null,
   "id": "f12c197d-a91e-4f57-a6f6-179c49b861fc",
   "metadata": {},
   "outputs": [],
   "source": [
    "# How do you remove duplicates from a list?"
   ]
  },
  {
   "cell_type": "code",
   "execution_count": 3,
   "id": "ed9d73ba-83db-4cca-981e-f72aebcc341e",
   "metadata": {},
   "outputs": [
    {
     "name": "stdout",
     "output_type": "stream",
     "text": [
      "Largest element: 31\n",
      "Smallest element: 4\n"
     ]
    }
   ],
   "source": [
    "# Find the largest and smallest elements in a list.\n",
    "numbers = [15, 22, 8, 19, 31, 4]\n",
    "largest = max(numbers)\n",
    "smallest = min(numbers)\n",
    "print(\"Largest element:\", largest)\n",
    "print(\"Smallest element:\", smallest)\n"
   ]
  },
  {
   "cell_type": "code",
   "execution_count": 10,
   "id": "305e8703-1bfb-402d-a8a2-650e3b889384",
   "metadata": {},
   "outputs": [
    {
     "name": "stdout",
     "output_type": "stream",
     "text": [
      "The element 4 appears 3 times in the list.\n"
     ]
    }
   ],
   "source": [
    "# Count the occurrences of a specific element in a list.\n",
    "\n",
    "list = [1, 2, 2, 3, 4, 4, 4, 5]\n",
    "count1 = 4\n",
    "count = list.count( count1)\n",
    "print(f\"The element { count1} appears {count} times in the list.\")"
   ]
  },
  {
   "cell_type": "code",
   "execution_count": 12,
   "id": "9dcba213-55a3-4c8a-b38d-5a9da1dc78a9",
   "metadata": {},
   "outputs": [
    {
     "data": {
      "text/plain": [
       "(1, 2, 3, 4, 5)"
      ]
     },
     "execution_count": 12,
     "metadata": {},
     "output_type": "execute_result"
    }
   ],
   "source": [
    "# Convert a list to a tuple and display the result.\n",
    "\n",
    "list = [1, 2, 3, 4, 5]\n",
    "tuple = tuple(list)\n",
    "tuple"
   ]
  },
  {
   "cell_type": "code",
   "execution_count": 13,
   "id": "f6cf3458-1299-4e61-b537-c9180ab874f0",
   "metadata": {},
   "outputs": [
    {
     "name": "stdout",
     "output_type": "stream",
     "text": [
      "The element 4 appears 3 times in the tuple.\n"
     ]
    }
   ],
   "source": [
    "# Count occurrences of a specific element in a tuple.\n",
    "\n",
    "tuple = (1, 2, 2, 3, 4, 4, 4, 5)\n",
    "count1 = 4\n",
    "count = tuple.count(count1)\n",
    "print(f\"The element {count1} appears {count} times in the tuple.\")\n",
    " "
   ]
  },
  {
   "cell_type": "code",
   "execution_count": 25,
   "id": "088cf190-8344-42e4-9341-1b1000d3663e",
   "metadata": {},
   "outputs": [
    {
     "name": "stdout",
     "output_type": "stream",
     "text": [
      "Index of 30 is: 2\n"
     ]
    }
   ],
   "source": [
    "#  Find the index of an element using .index() method.\n",
    "\n",
    "list = [10, 20, 30, 40, 50]\n",
    "print(\"Index of 30 is:\",list.index(30)) \n"
   ]
  },
  {
   "cell_type": "code",
   "execution_count": 2,
   "id": "33195227-1b40-4e77-a8a6-468546e3f4da",
   "metadata": {},
   "outputs": [
    {
     "name": "stdout",
     "output_type": "stream",
     "text": [
      "(1, 2, 3, 4, 5)\n",
      "(1, 2, 3, 4, 5)\n",
      "List: [1, 2, 3, 4, 5]\n",
      "Tuple: (1, 2, 3, 4, 5)\n"
     ]
    }
   ],
   "source": [
    "# Convert a list to a tuple and display the result.\n",
    "\n",
    "list1 = [1, 2, 3, 4, 5]\n",
    "print(tuple(list1))\n",
    "a = tuple(list1)\n",
    "print(a)\n",
    "print(\"List:\",list1)\n",
    "print(\"Tuple:\",a)\n"
   ]
  },
  {
   "cell_type": "code",
   "execution_count": 20,
   "id": "b71be200-cbca-4ca5-9e3c-d3f4ef0f37cb",
   "metadata": {},
   "outputs": [
    {
     "name": "stdout",
     "output_type": "stream",
     "text": [
      "Concatenated tuple: (1, 2, 3, 4, 5, 6)\n"
     ]
    }
   ],
   "source": [
    "#  Concatenate two tuples and print the result.\n",
    "\n",
    "tuple1 = (1, 2, 3)\n",
    "tuple2 = (4, 5, 6)\n",
    "print(\"Concatenated tuple:\", tuple1 + tuple2)\n"
   ]
  },
  {
   "cell_type": "code",
   "execution_count": null,
   "id": "89e2b1d3-d982-4235-9b1b-8cdf93c8c635",
   "metadata": {},
   "outputs": [],
   "source": [
    "# Add and remove elements from a set\n",
    "\n"
   ]
  },
  {
   "cell_type": "code",
   "execution_count": 21,
   "id": "2b11ba2e-3222-49a0-96aa-e4cb49adff9c",
   "metadata": {},
   "outputs": [
    {
     "name": "stdout",
     "output_type": "stream",
     "text": [
      "Common elements: {3, 4}\n"
     ]
    }
   ],
   "source": [
    "# Find common elements in two sets\n",
    "\n",
    "set1 = {1, 2, 3, 4}\n",
    "set2 = {3, 4, 5, 6}\n",
    "print(\"Common elements:\", set1.intersection(set2))\n"
   ]
  },
  {
   "cell_type": "code",
   "execution_count": 22,
   "id": "5c01e231-42a7-44bc-a258-b52fd0f4a98c",
   "metadata": {},
   "outputs": [
    {
     "name": "stdout",
     "output_type": "stream",
     "text": [
      "Elements present in only one set: {1, 2, 5, 6}\n"
     ]
    }
   ],
   "source": [
    "# Find elements present in only one set\n",
    "\n",
    "set1 = {1, 2, 3, 4}\n",
    "set2 = {3, 4, 5, 6}\n",
    "print(\"Elements present in only one set:\",set1.symmetric_difference(set2))\n"
   ]
  },
  {
   "cell_type": "code",
   "execution_count": 23,
   "id": "55ad8abb-4c93-44f5-839a-cb91e7501e28",
   "metadata": {},
   "outputs": [
    {
     "name": "stdout",
     "output_type": "stream",
     "text": [
      "True\n",
      "False\n"
     ]
    }
   ],
   "source": [
    "# Check if one set is a subset of another\n",
    "\n",
    "set1 = {1, 2, 3}\n",
    "set2 = {1, 2, 3, 4, 5}\n",
    "print(set1.issubset(set2))\n",
    "print(set2.issubset(set1))"
   ]
  },
  {
   "cell_type": "code",
   "execution_count": null,
   "id": "a275fa37-8df9-4524-81f9-6a122b2370d4",
   "metadata": {},
   "outputs": [],
   "source": []
  }
 ],
 "metadata": {
  "kernelspec": {
   "display_name": "Python 3 (ipykernel)",
   "language": "python",
   "name": "python3"
  },
  "language_info": {
   "codemirror_mode": {
    "name": "ipython",
    "version": 3
   },
   "file_extension": ".py",
   "mimetype": "text/x-python",
   "name": "python",
   "nbconvert_exporter": "python",
   "pygments_lexer": "ipython3",
   "version": "3.13.3"
  }
 },
 "nbformat": 4,
 "nbformat_minor": 5
}
